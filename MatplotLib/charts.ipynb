{
 "cells": [
  {
   "cell_type": "markdown",
   "id": "7ef8373e",
   "metadata": {},
   "source": [
    "Matplotlib initialization code snippet:\n"
   ]
  },
  {
   "cell_type": "code",
   "execution_count": null,
   "id": "afa20faa",
   "metadata": {},
   "outputs": [],
   "source": [
    "import matplotlib.pyplot as plt"
   ]
  }
 ],
 "metadata": {
  "language_info": {
   "name": "python"
  }
 },
 "nbformat": 4,
 "nbformat_minor": 5
}
