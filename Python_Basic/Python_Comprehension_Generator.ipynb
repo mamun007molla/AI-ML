{
  "cells": [
    {
      "cell_type": "markdown",
      "metadata": {},
      "source": [
        "# Python Comprehension & Generator Practice\n",
        "Windows-Compatible Version\n",
        "This notebook contains examples for list, set, dict, tuple comprehensions and generator usage."
      ]
    },
    {
      "cell_type": "code",
      "execution_count": 1,
      "metadata": {},
      "outputs": [
        {
          "name": "stdout",
          "output_type": "stream",
          "text": [
            "Squares: [1, 4, 9, 16, 25]\n"
          ]
        }
      ],
      "source": [
        "# 1. List Comprehension\n",
        "numbers = [1, 2, 3, 4, 5]\n",
        "squares = [n*n for n in numbers]\n",
        "print('Squares:', squares)"
      ]
    },
    {
      "cell_type": "code",
      "execution_count": null,
      "metadata": {},
      "outputs": [],
      "source": [
        "# Even numbers only\n",
        "even_numbers = [n for n in numbers if n%2==0]\n",
        "print('Even Numbers:', even_numbers)"
      ]
    },
    {
      "cell_type": "code",
      "execution_count": null,
      "metadata": {},
      "outputs": [],
      "source": [
        "# If-Else in comprehension\n",
        "result = ['even' if n%2==0 else 'odd' for n in numbers]\n",
        "print('Even/Odd Labels:', result)"
      ]
    },
    {
      "cell_type": "code",
      "execution_count": null,
      "metadata": {},
      "outputs": [],
      "source": [
        "# Nested Loops\n",
        "pairs = [(x,y) for x in [1,2,3] for y in [4,5]]\n",
        "print('Nested Loop Pairs:', pairs)"
      ]
    },
    {
      "cell_type": "code",
      "execution_count": null,
      "metadata": {},
      "outputs": [],
      "source": [
        "# Multiple Conditions\n",
        "numbers = [10,15,20,25,30]\n",
        "filtered = [n for n in numbers if n>15 if n%5==0]\n",
        "print('Multiple Conditions:', filtered)"
      ]
    },
    {
      "cell_type": "code",
      "execution_count": null,
      "metadata": {},
      "outputs": [],
      "source": [
        "# String Comprehension\n",
        "name = 'Python'\n",
        "letters = [ch for ch in name]\n",
        "print('String to List:', letters)"
      ]
    },
    {
      "cell_type": "code",
      "execution_count": null,
      "metadata": {},
      "outputs": [],
      "source": [
        "# Control Flow + List Comprehension Examples\n",
        "evens = [x for x in range(1,21) if x%2==0]\n",
        "print('Even numbers 1-20:', evens)\n",
        "divisible = [x for x in range(1,21) if x%3==0 and x%5==0]\n",
        "print('Divisible by 3 and 5:', divisible)\n",
        "text = 'Bangladesh'\n",
        "vowels = [ch for ch in text if ch.lower() in 'aeiou']\n",
        "print('Vowels in string:', vowels)"
      ]
    },
    {
      "cell_type": "code",
      "execution_count": null,
      "metadata": {},
      "outputs": [],
      "source": [
        "# Set Comprehension\n",
        "numbers = [1,2,2,3,4,4,5]\n",
        "unique = {n for n in numbers}\n",
        "print('Set Comprehension:', unique)"
      ]
    },
    {
      "cell_type": "code",
      "execution_count": null,
      "metadata": {},
      "outputs": [],
      "source": [
        "# Dictionary Comprehension\n",
        "squares_dict = {n:n*n for n in range(1,6)}\n",
        "print('Dictionary Comprehension:', squares_dict)\n",
        "even_square_dict = {n:n*n for n in range(10) if n%2==0}\n",
        "print('Even Squares Dict:', even_square_dict)"
      ]
    },
    {
      "cell_type": "code",
      "execution_count": null,
      "metadata": {},
      "outputs": [],
      "source": [
        "# Generator Comprehension\n",
        "gen = (x*x for x in range(5))\n",
        "print('Generator Object:', gen)\n",
        "for n in gen:\n",
        "    print(n)"
      ]
    },
    {
      "cell_type": "code",
      "execution_count": null,
      "metadata": {},
      "outputs": [],
      "source": [
        "# Generator Function\n",
        "def simple_gen():\n",
        "    for i in range(3):\n",
        "        yield i\n",
        "for value in simple_gen():\n",
        "    print(value)"
      ]
    },
    {
      "cell_type": "code",
      "execution_count": null,
      "metadata": {},
      "outputs": [],
      "source": [
        "# Count up to N Generator\n",
        "def count_up_to(n):\n",
        "    count=1\n",
        "    while count<=n:\n",
        "        yield count\n",
        "        count+=1\n",
        "for num in count_up_to(5):\n",
        "    print(num)"
      ]
    },
    {
      "cell_type": "code",
      "execution_count": null,
      "metadata": {},
      "outputs": [],
      "source": [
        "# Fibonacci Generator\n",
        "def fibonacci(limit):\n",
        "    a,b=0,1\n",
        "    while a<limit:\n",
        "        yield a\n",
        "        a,b=b,a+b\n",
        "for num in fibonacci(10):\n",
        "    print(num)"
      ]
    },
    {
      "cell_type": "code",
      "execution_count": null,
      "metadata": {},
      "outputs": [],
      "source": [
        "# Tuple Creation Using Comprehension\n",
        "tup = tuple(x*x for x in range(5))\n",
        "print('Tuple of Squares:', tup)\n",
        "even_tup = tuple(x for x in range(10) if x%2==0)\n",
        "print('Tuple of Even Numbers:', even_tup)\n",
        "even_odd_tup = tuple(('even' if x%2==0 else 'odd') for x in range(6))\n",
        "print('Tuple with Even/Odd Labels:', even_odd_tup)"
      ]
    },
    {
      "cell_type": "code",
      "execution_count": null,
      "metadata": {},
      "outputs": [],
      "source": [
        "# Bonus: Generator vs List Performance\n",
        "list_comp = [x for x in range(1000000)]\n",
        "print('List Comprehension Created:', len(list_comp), 'items')\n",
        "gen_comp = (x for x in range(1000000))\n",
        "print('Generator Created (lazy):', gen_comp)\n",
        "print('Fetching first 5 values from generator:', [next(gen_comp) for _ in range(5)])"
      ]
    }
  ],
  "metadata": {
    "kernelspec": {
      "display_name": "Python 3",
      "language": "python",
      "name": "python3"
    },
    "language_info": {
      "codemirror_mode": {
        "name": "ipython",
        "version": 3
      },
      "file_extension": ".py",
      "mimetype": "text/x-python",
      "name": "python",
      "nbconvert_exporter": "python",
      "pygments_lexer": "ipython3",
      "version": "3.13.7"
    }
  },
  "nbformat": 4,
  "nbformat_minor": 5
}
