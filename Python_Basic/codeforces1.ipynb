{
 "cells": [
  {
   "cell_type": "markdown",
   "id": "19ba5509",
   "metadata": {},
   "source": [
    "Given two numbers N and M. Print the summation of their last digits.\n",
    "\n",
    "Input\n",
    "\n",
    "Only one line containing two numbers N, M (0 ≤ N, M ≤ 1018).\n",
    "\n",
    "Output\n",
    "\n",
    "Print the answer of the problem.\n",
    "\n",
    "Example\n",
    "InputCopy\n",
    "13 12\n",
    "OutputCopy\n",
    "5\n",
    "Note\n",
    "First Example :\n",
    "\n",
    "last digit in the first number is 3 and last digit in the second number is 2.\n",
    "\n",
    "So the answer is: (3 + 2 = 5)"
   ]
  },
  {
   "cell_type": "code",
   "execution_count": 7,
   "id": "1aecc40e",
   "metadata": {},
   "outputs": [
    {
     "name": "stdout",
     "output_type": "stream",
     "text": [
      "5\n"
     ]
    }
   ],
   "source": [
    "inp=input()\n",
    "num=inp.split(\" \")\n",
    "N=int(num[0])\n",
    "M=int(num[1])\n",
    "m=M%10\n",
    "n=N%10\n",
    "print(n+m)"
   ]
  }
 ],
 "metadata": {
  "kernelspec": {
   "display_name": "Python 3",
   "language": "python",
   "name": "python3"
  },
  "language_info": {
   "codemirror_mode": {
    "name": "ipython",
    "version": 3
   },
   "file_extension": ".py",
   "mimetype": "text/x-python",
   "name": "python",
   "nbconvert_exporter": "python",
   "pygments_lexer": "ipython3",
   "version": "3.13.8"
  }
 },
 "nbformat": 4,
 "nbformat_minor": 5
}
