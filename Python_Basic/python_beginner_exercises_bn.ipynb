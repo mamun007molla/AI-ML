{
  "cells": [
    {
      "cell_type": "markdown",
      "metadata": {},
      "source": [
        "# 🐍 Python Exercises Notebook (Beginner)\n",
        "\n",
        "বাংলায় ব্যাখ্যা সহ প্র্যাকটিস করার জন্য জুপিটার-স্টাইল নোটবুক।\n",
        "\n",
        "> নির্দেশনা: প্রতিটি সেকশনের নিচের কোড সেলে আপনি নিজের সমাধান লিখবেন।\n",
        "> যেখানে ইনপুট নেওয়ার কথা আছে, সেখানে `input()` ব্যবহার করতে পারেন।\n"
      ]
    },
    {
      "cell_type": "markdown",
      "metadata": {},
      "source": [
        "## সূচিপত্র\n",
        "- [Variables & Data Types](#variables)\n",
        "- [Taking Input](#input)\n",
        "- [Operators](#operators)\n",
        "- [Precedence & Associativity](#precedence)\n",
        "- [Conditional Statements](#conditionals)\n",
        "- [String, Indexing & Slicing](#string_index_slice)\n",
        "- [String Methods](#string_methods)\n",
        "- [String Splitting, Joining & Formatting](#string_sjf)\n",
        "- [List Methods](#list_methods)\n"
      ]
    },
    {
      "cell_type": "markdown",
      "metadata": {},
      "source": [
        "## <a id='variables'></a>1) Variables & Data Types\n",
        "নির্দেশনা: নিচের সমস্যাগুলো সমাধান করুন।"
      ]
    },
    {
      "cell_type": "markdown",
      "metadata": {},
      "source": [
        "**Exercises**\n",
        "\n",
        "1) আপনার নাম (string), বয়স (int), উচ্চতা (float) ভেরিয়েবল তৈরি করে প্রিন্ট করুন।\n",
        "\n",
        "2) `type()` ব্যবহার করে প্রতিটি ভেরিয়েবলের টাইপ দেখান।\n",
        "\n",
        "3) একটি `person` নামের dictionary বানান: `{'name': ..., 'age': ..., 'height': ...}` এবং প্রিন্ট করুন।"
      ]
    },
    {
      "cell_type": "code",
      "execution_count": 1,
      "metadata": {},
      "outputs": [
        {
          "name": "stdout",
          "output_type": "stream",
          "text": [
            "Mamun 24 5.2\n",
            "<class 'str'> <class 'int'> <class 'float'>\n",
            "{'name': 'Mamun', 'age': 24, 'height': 5.2}\n"
          ]
        }
      ],
      "source": [
        "# Variables & Data Types - Solve here\n",
        "# TODO: Write your solutions below\n",
        "\n",
        "name = \"Mamun\"\n",
        "age = 24\n",
        "height = 5.2\n",
        "\n",
        "print(name, age, height)\n",
        "print(type(name), type(age), type(height))\n",
        "\n",
        "person = {\n",
        "    'name': name,\n",
        "    'age': age,\n",
        "    'height': height\n",
        "}\n",
        "print(person)\n"
      ]
    },
    {
      "cell_type": "markdown",
      "metadata": {},
      "source": [
        "## <a id='input'></a>2) Taking Input\n",
        "নির্দেশনা: ইনপুট নিয়ে স্ট্রিং/সংখ্যা রূপান্তর অনুশীলন করুন।"
      ]
    },
    {
      "cell_type": "markdown",
      "metadata": {},
      "source": [
        "**Exercises**\n",
        "\n",
        "1) ব্যবহারকারীর নাম ও বয়স ইনপুট নিয়ে প্রিন্ট করুন: `হ্যালো <name>! তোমার বয়স <age> বছর।`\n",
        "\n",
        "2) দুটি সংখ্যা ইনপুট নিয়ে তাদের যোগফল দেখান (সঠিকভাবে `int`/`float` কনভার্ট করতে হবে)।\n",
        "\n",
        "3) `name, age` এক লাইনে স্পেস দ্বারা ইনপুট নিয়ে প্রিন্ট করুন।"
      ]
    },
    {
      "cell_type": "code",
      "execution_count": 2,
      "metadata": {},
      "outputs": [
        {
          "name": "stdout",
          "output_type": "stream",
          "text": [
            "হ্যালো Mamun! তোমার বয়স 24 বছর।\n",
            "যোগফল: 35.0\n",
            "নাম: Mamun\n",
            "বয়স: 24\n"
          ]
        }
      ],
      "source": [
        "# Taking Input - Solve here\n",
        "# উদাহরণ ইনপুট চলাতে 'Run' করে ইনপুট দিন\n",
        "\n",
        "# 1)\n",
        "name = input(\"তোমার নাম: \")\n",
        "age = int(input(\"তোমার বয়স: \"))\n",
        "print(f\"হ্যালো {name}! তোমার বয়স {age} বছর।\")\n",
        "\n",
        "# 2)\n",
        "a = float(input(\"প্রথম সংখ্যা: \"))\n",
        "b = float(input(\"দ্বিতীয় সংখ্যা: \"))\n",
        "print(\"যোগফল:\", a + b)\n",
        "\n",
        "# 3)\n",
        "name, age = input(\"নাম ও বয়স (স্পেস দিয়ে): \").split()\n",
        "print(\"নাম:\", name)\n",
        "print(\"বয়স:\", age)\n"
      ]
    },
    {
      "cell_type": "markdown",
      "metadata": {},
      "source": [
        "## <a id='operators'></a>3) Operators\n",
        "Arithmetic, Assignment, Comparison, Logical, Identity, Membership, Bitwise অনুশীলন।"
      ]
    },
    {
      "cell_type": "markdown",
      "metadata": {},
      "source": [
        "**Exercises**\n",
        "\n",
        "1) দুটি সংখ্যা নিয়ে সব Arithmetic অপারেশন চালিয়ে ফলাফল প্রিন্ট করুন।\n",
        "\n",
        "2) বয়স ইনপুট নিয়ে দেখান `age >= 18` হলে \"প্রাপ্তবয়স্ক\" নাহলে \"অপ্রাপ্তবয়স্ক\" (Comparison + Conditional print)।\n",
        "\n",
        "3) একটি লিস্টে কোনো আইটেম আছে কি না `in` দিয়ে যাচাই করুন।\n",
        "\n",
        "4) `and`, `or`, `not` দিয়ে তিনটি শর্ত মিলিয়ে True/False বের করুন।"
      ]
    },
    {
      "cell_type": "code",
      "execution_count": 3,
      "metadata": {},
      "outputs": [
        {
          "name": "stdout",
          "output_type": "stream",
          "text": [
            "Add:30\n",
            "Sub:10\n",
            "Mul:200\n",
            "Div:2.0\n",
            "Rem:0\n",
            "Adult\n",
            "True\n",
            "True\n"
          ]
        }
      ],
      "source": [
        "# Operators - Solve here\n",
        "# TODO: Write and test your expressions\n",
        "num1=eval(input(\"Enter number 1: \"))\n",
        "num2=eval(input(\"Enter number 2: \"))\n",
        "# add,sub,mul,div,mod\n",
        "\n",
        "print(f\"Add:{num1+num2}\\nSub:{num1-num2}\\nMul:{num1*num2}\\nDiv:{num1/num2}\\nRem:{num1%num2}\")\n",
        "age=eval(input(\"Enter your age: \"))\n",
        "if age>=18:print(\"Adult\")\n",
        "else:print(\"Not Adult\")\n",
        "list_item=[1,2,3,4,5]\n",
        "print(2 in list_item)\n",
        "if (2 in list_item or 6 in list_item) and 3 in list_item and not 6 in list_item:print(True)\n",
        "else:print(False)\n"
      ]
    },
    {
      "cell_type": "markdown",
      "metadata": {},
      "source": [
        "## <a id='precedence'></a>4) Precedence & Associativity\n",
        "এক্সপ্রেশনের মূল্যায়ন ক্রম অনুশীলন।"
      ]
    },
    {
      "cell_type": "markdown",
      "metadata": {},
      "source": [
        "**Exercises**\n",
        "\n",
        "1) `a = 10 + 2 * 3` এবং `b = (10 + 2) * 3` — উভয়ের ফলাফল বের করে ব্যাখ্যা দিন।\n",
        "\n",
        "2) `x = 5 + 2 ** 3 * 2` এর ফলাফল বের করে ব্যাখ্যা দিন।\n",
        "\n",
        "3) কেন `2 ** 3 ** 2 = 512` হয় তা কোডে দেখান (`Right-to-Left` associativity)।"
      ]
    },
    {
      "cell_type": "code",
      "execution_count": 8,
      "metadata": {},
      "outputs": [
        {
          "name": "stdout",
          "output_type": "stream",
          "text": [
            "16\n",
            "36\n",
            "21\n",
            "512\n"
          ]
        }
      ],
      "source": [
        "# Precedence & Associativity - Solve here\n",
        "# TODO\n",
        "print(10+2*3)\n",
        "print((10+2)*3)\n",
        "print(5+2**3*2)\n",
        "print(2**3**2)"
      ]
    },
    {
      "cell_type": "markdown",
      "metadata": {},
      "source": [
        "## <a id='conditionals'></a>5) Conditional Statements (if / elif / else)\n",
        "শর্তভিত্তিক সিদ্ধান্ত নেওয়া।"
      ]
    },
    {
      "cell_type": "markdown",
      "metadata": {},
      "source": [
        "**Exercises**\n",
        "\n",
        "1) বয়স ইনপুট নিয়ে ভোট দেওয়ার যোগ্যতা নির্ধারণ করুন।\n",
        "\n",
        "2) নম্বর অনুযায়ী গ্রেড প্রিন্ট করুন (A+, A, A-, B, Fail)।\n",
        "\n",
        "3) একটি সংখ্যা ধনাত্মক/ঋণাত্মক/শূন্য কিনা তা প্রিন্ট করুন।\n",
        "\n",
        "4) বছর ইনপুট নিয়ে এটি Leap Year কি না নির্ধারণ করুন।"
      ]
    },
    {
      "cell_type": "code",
      "execution_count": 9,
      "metadata": {},
      "outputs": [
        {
          "name": "stdout",
          "output_type": "stream",
          "text": [
            "you can't vote\n"
          ]
        }
      ],
      "source": [
        "# Conditional Statements - Solve here\n",
        "# TODO\n",
        "# 1\n",
        "age=eval(input())\n",
        "if age>=18:print(\"You can vote\")\n",
        "else:print(\"you can't vote\")\n"
      ]
    },
    {
      "cell_type": "code",
      "execution_count": 11,
      "id": "89a476ab",
      "metadata": {},
      "outputs": [
        {
          "name": "stdout",
          "output_type": "stream",
          "text": [
            "Fail\n"
          ]
        }
      ],
      "source": [
        "# 2\n",
        "num=eval(input())\n",
        "if 100>=num>=80:print(\"A+\")\n",
        "elif 80>num>=70:print(\"A\")\n",
        "elif 70>num>=60:print(\"A-\")\n",
        "elif 60>num>=50:print(\"B\")\n",
        "else:print(\"Fail\")"
      ]
    },
    {
      "cell_type": "code",
      "execution_count": 12,
      "id": "654b6263",
      "metadata": {},
      "outputs": [
        {
          "name": "stdout",
          "output_type": "stream",
          "text": [
            "Positive\n"
          ]
        }
      ],
      "source": [
        "# 3\n",
        "if num>0:print(\"Positive\")\n",
        "elif num<0:print(\"Negative\")\n",
        "else:print(0)"
      ]
    },
    {
      "cell_type": "code",
      "execution_count": 16,
      "id": "26152d51",
      "metadata": {},
      "outputs": [
        {
          "name": "stdout",
          "output_type": "stream",
          "text": [
            "Not Leap Year\n"
          ]
        }
      ],
      "source": [
        "# \n",
        "year=eval(input())\n",
        "if year%4==0:\n",
        "    if year%100==0:\n",
        "        if year%400==0:\n",
        "            print(\"Leap Year\")\n",
        "        else:print(\"Not Leap Year\")\n",
        "    else:print(\"Leap Year\")\n",
        "else:print(\"Not Leap Year\")"
      ]
    },
    {
      "cell_type": "markdown",
      "metadata": {},
      "source": [
        "## <a id='string_index_slice'></a>6) String, Indexing & Slicing\n",
        "স্ট্রিং থেকে অক্ষর/সাবস্ট্রিং বের করা।"
      ]
    },
    {
      "cell_type": "markdown",
      "metadata": {},
      "source": [
        "**Exercises**\n",
        "\n",
        "1) একটি স্ট্রিং ইনপুট নিয়ে প্রথম ও শেষ অক্ষর প্রিন্ট করুন।\n",
        "\n",
        "2) \"Python\" থেকে \"yth\" বের করুন।\n",
        "\n",
        "3) কোনো নাম উল্টো করে প্রিন্ট করুন (`[::-1]`)।\n",
        "\n",
        "4) \"Programming\" থেকে \"gram\" অংশটি বের করুন।\n",
        "\n",
        "5) \"Bangladesh\" থেকে প্রতি দ্বিতীয় অক্ষর প্রিন্ট করুন।"
      ]
    },
    {
      "cell_type": "code",
      "execution_count": 7,
      "metadata": {},
      "outputs": [
        {
          "name": "stdout",
          "output_type": "stream",
          "text": [
            "M n\n",
            "yth\n",
            "numaM\n",
            "gram\n",
            "Bnlds\n"
          ]
        }
      ],
      "source": [
        "# String, Indexing & Slicing - Solve here\n",
        "# TODO\n",
        "strr=input()\n",
        "print(strr[0],strr[-1])\n",
        "print(\"Python\"[1:4])\n",
        "print(strr[::-1])\n",
        "print('Programming'[3:7])\n",
        "print(\"Bangladesh\"[::2])\n"
      ]
    },
    {
      "cell_type": "markdown",
      "metadata": {},
      "source": [
        "## <a id='string_methods'></a>7) String Methods\n",
        "upper/lower/title/strip/replace/split/join/find/count ইত্যাদি।"
      ]
    },
    {
      "cell_type": "markdown",
      "metadata": {},
      "source": [
        "**Exercises**\n",
        "\n",
        "1) কোনো নাম Upper/Lower — দুইভাবে প্রিন্ট করুন।\n",
        "\n",
        "2) \"I love Python\" → \"I love Programming\" (replace)।\n",
        "\n",
        "3) একটি স্ট্রিং-এ কতগুলো 'a' আছে তা গুনে বের করুন।\n",
        "\n",
        "4) \"Hello World\" উল্টে দিন এবং প্রথম অক্ষর ক্যাপিটাল করুন।\n",
        "\n",
        "5) একটি বাক্যকে `split()` করে লিস্ট এবং আবার `join()` করে স্ট্রিং বানান।"
      ]
    },
    {
      "cell_type": "code",
      "execution_count": 6,
      "metadata": {},
      "outputs": [
        {
          "name": "stdout",
          "output_type": "stream",
          "text": [
            "MAMUN\n",
            "mamun\n",
            "1\n",
            "Dlrow olleh\n",
            "['i', 'love', 'python']\n",
            "i love python\n"
          ]
        }
      ],
      "source": [
        "# String Methods - Solve here\n",
        "# TODO\n",
        "str1=\"Mamun\"\n",
        "print(str1.upper())\n",
        "print(str1.lower())\n",
        "print(('i love python'.replace('python','programming')).count(\"a\"))\n",
        "str2='Hello World'\n",
        "str2=str2[::-1].capitalize()\n",
        "print(str2)\n",
        "str3=\"i love python\"\n",
        "str_list=str3.split()\n",
        "print(str_list)\n",
        "strr=\" \".join(str_list)\n",
        "print(strr)"
      ]
    },
    {
      "cell_type": "markdown",
      "metadata": {},
      "source": [
        "## <a id='string_sjf'></a>8) String Splitting, Joining & Formatting\n",
        "`split`, `join`, `f-string`, `format`, `%`-format অনুশীলন।"
      ]
    },
    {
      "cell_type": "markdown",
      "metadata": {},
      "source": [
        "**Exercises**\n",
        "\n",
        "1) \"apple,banana,mango\" → লিস্টে ভেঙে আবার কমা দিয়ে যুক্ত করুন।\n",
        "\n",
        "2) নাম ও বয়স ইনপুট নিয়ে f-string ব্যবহার করে সুন্দরভাবে প্রিন্ট করুন।\n",
        "\n",
        "3) \"I love Python programming\" → শব্দভাগে ভেঙে প্রতিটি আলাদা লাইনে প্রিন্ট করুন।\n",
        "\n",
        "4) \"Bangladesh is beautiful\" → `-` দিয়ে `join` করুন।\n",
        "\n",
        "5) Product name + price ফরম্যাট করে দেখান: `Product: Laptop | Price: $550.00`"
      ]
    },
    {
      "cell_type": "code",
      "execution_count": 14,
      "metadata": {},
      "outputs": [
        {
          "name": "stdout",
          "output_type": "stream",
          "text": [
            "['apple', 'banana', 'mango']\n",
            "apple,banana,mango\n",
            "I\n",
            "love\n",
            "Python\n",
            "programming\n",
            "b-a-n-g-l-a-d-e-s-h- -i-s- -b-e-a-u-t-i-f-u-l\n"
          ]
        }
      ],
      "source": [
        "# String Splitting, Joining & Formatting - Solve here\n",
        "# TODO\n",
        "# 1\n",
        "str1=\"apple,banana,mango\"\n",
        "lst=str1.split(\",\")\n",
        "print(lst)\n",
        "print(\",\".join(lst))\n",
        "print(f\"I\\nlove\\nPython\\nprogramming\")\n",
        "print('-'.join('bangladesh is beautiful'))\n",
        "\n",
        "\n"
      ]
    },
    {
      "cell_type": "markdown",
      "metadata": {},
      "source": [
        "## <a id='list_methods'></a>9) List Methods\n",
        "append/insert/remove/pop/clear/sort/reverse/copy/count/index/extend অনুশীলন।"
      ]
    },
    {
      "cell_type": "markdown",
      "metadata": {},
      "source": [
        "**Exercises**\n",
        "\n",
        "1) `['apple','banana','cherry']` → শেষে `\"mango\"` যোগ ও `\"banana\"` মুছে দিন।\n",
        "\n",
        "2) `[5,2,9,1,7]` ascending ও descending অর্ডারে সাজান।\n",
        "\n",
        "3) একটি লিস্টে `'a'` কয়বার আছে তা বের করুন।\n",
        "\n",
        "4) `[1,2,3]` এবং `[4,5,6]` একত্র করুন।\n",
        "\n",
        "5) একটি লিস্ট reverse করুন।"
      ]
    },
    {
      "cell_type": "code",
      "execution_count": 9,
      "metadata": {},
      "outputs": [
        {
          "name": "stdout",
          "output_type": "stream",
          "text": [
            "['apple', 'cherry', 'mango']\n",
            "[1, 2, 5, 7, 9]\n",
            "[5, 4, 3, 2, 1]\n",
            "3\n",
            "[1, 2, 3, 4, 5, 6]\n"
          ]
        }
      ],
      "source": [
        "# List Methods - Solve here\n",
        "# TODO\n",
        "# 1\n",
        "fruits=['apple','banana','cherry']\n",
        "fruits.append('mango')\n",
        "fruits.remove('banana')\n",
        "print(fruits)\n",
        "\n",
        "#2\n",
        "num=[5,2,9,1,7]\n",
        "num.sort()\n",
        "print(num)\n",
        "\n",
        "numbers = [1, 3, 2, 5, 4]\n",
        "numbers.sort()\n",
        "print(numbers[::-1])\n",
        "# 3\n",
        "alpha=['a','b','c','a','a']\n",
        "print(alpha.count('a'))\n",
        "\n",
        "# 4\n",
        "num1=[1,2,3]\n",
        "num2=[4,5,6]\n",
        "num1.extend(num2)\n",
        "print(num1)\n",
        "\n",
        "\n"
      ]
    }
  ],
  "metadata": {
    "kernelspec": {
      "display_name": "Python 3",
      "language": "python",
      "name": "python3"
    },
    "language_info": {
      "codemirror_mode": {
        "name": "ipython",
        "version": 3
      },
      "file_extension": ".py",
      "mimetype": "text/x-python",
      "name": "python",
      "nbconvert_exporter": "python",
      "pygments_lexer": "ipython3",
      "version": "3.13.7"
    }
  },
  "nbformat": 4,
  "nbformat_minor": 5
}
