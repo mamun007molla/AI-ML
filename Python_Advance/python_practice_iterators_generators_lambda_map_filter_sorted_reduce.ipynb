{
 "cells": [
  {
   "cell_type": "markdown",
   "id": "1b6c2545",
   "metadata": {},
   "source": [
    "# 🧠 Python Practice: Iterators, Generators, Lambda, map, filter, sorted, reduce\n",
    "*Generated on 2025-10-15 15:48 UTC*\n",
    "\n",
    "\n",
    "এই নোটবুকে তুমি আজ শেখা টপিকগুলো **হ্যান্ডস-অন প্র্যাকটিস** করবে।  \n",
    "প্রতিটি সেকশনে **TODO** দেওয়া আছে—সেগুলো পূরণ করো।  \n",
    "অনেক জায়গায় **tests (assert)** দেওয়া আছে—সবুজ টিক মানে তুমি ঠিক করেছো ✅\n",
    "\n",
    "**Topics:** Iterator • Generator • Lambda • map • filter • sorted • reduce • Mini Projects\n"
   ]
  },
  {
   "cell_type": "code",
   "execution_count": null,
   "id": "866d85c4",
   "metadata": {},
   "outputs": [],
   "source": [
    "# ✅ Run this cell first (helper functions & test data)\n",
    "from math import factorial\n",
    "import itertools as it\n",
    "\n",
    "def show_passed(msg=\"Passed\"):\n",
    "    print(\"✅\", msg)\n"
   ]
  },
  {
   "cell_type": "markdown",
   "id": "f0c47a9f",
   "metadata": {},
   "source": [
    "## 1) Iterators — `iter()` & `next()`"
   ]
  },
  {
   "cell_type": "markdown",
   "id": "82d3f03e",
   "metadata": {},
   "source": [
    "**Practice 1.1** — একটা list থেকে iterator বানাও এবং `next()` দিয়ে প্রথম দুইটা আইটেম বের করো।"
   ]
  },
  {
   "cell_type": "code",
   "execution_count": null,
   "id": "29466502",
   "metadata": {},
   "outputs": [],
   "source": [
    "# TODO: create an iterator from nums and use next() twice\n",
    "nums = [10, 20, 30, 40]\n",
    "it_nums = iter(nums)  # TODO\n",
    "\n",
    "a = next(it_nums)     # TODO\n",
    "b = next(it_nums)     # TODO\n",
    "\n",
    "assert a == 10 and b == 20\n",
    "show_passed(\"1.1\")"
   ]
  },
  {
   "cell_type": "markdown",
   "id": "319a22de",
   "metadata": {},
   "source": [
    "**Practice 1.2** — নিজে হাতে while-loop + `StopIteration` হ্যান্ডেল করে সব আইটেম প্রিন্ট করো (list ব্যবহার না করে)।"
   ]
  },
  {
   "cell_type": "code",
   "execution_count": null,
   "id": "dad38e18",
   "metadata": {},
   "outputs": [],
   "source": [
    "# TODO: consume an iterator with while/try/except StopIteration\n",
    "nums = [3, 4, 5]\n",
    "it_nums = iter(nums)\n",
    "\n",
    "collected = []\n",
    "while True:\n",
    "    try:\n",
    "        x = next(it_nums)   # TODO\n",
    "        collected.append(x)\n",
    "    except StopIteration:\n",
    "        break\n",
    "\n",
    "assert collected == [3,4,5]\n",
    "show_passed(\"1.2\")"
   ]
  },
  {
   "cell_type": "markdown",
   "id": "ae4034e7",
   "metadata": {},
   "source": [
    "## 2) Generators — `yield`"
   ]
  },
  {
   "cell_type": "markdown",
   "id": "44c8c0aa",
   "metadata": {},
   "source": [
    "**Practice 2.1** — একটা generator `count_from(n)` লেখো যেটা `n, n+1, n+2 ...` করে অসীম পর্যন্ত দেবে। প্রথম 5টা ভ্যালু নাও।"
   ]
  },
  {
   "cell_type": "code",
   "execution_count": null,
   "id": "400ae9e7",
   "metadata": {},
   "outputs": [],
   "source": [
    "# TODO: implement count_from\n",
    "def count_from(n):\n",
    "    # yield increasing integers starting at n\n",
    "    while True:\n",
    "        yield n\n",
    "        n += 1\n",
    "\n",
    "g = count_from(7)\n",
    "vals = [next(g) for _ in range(5)]\n",
    "assert vals == [7,8,9,10,11]\n",
    "show_passed(\"2.1\")"
   ]
  },
  {
   "cell_type": "markdown",
   "id": "0d73a85f",
   "metadata": {},
   "source": [
    "**Practice 2.2** — Fibonacci generator `fib()` লেখো যা `0,1,1,2,3,5...` দেবে। প্রথম 8টি সংগ্রহ করো।"
   ]
  },
  {
   "cell_type": "code",
   "execution_count": null,
   "id": "f5eb009a",
   "metadata": {},
   "outputs": [],
   "source": [
    "# TODO: implement Fibonacci generator\n",
    "def fib():\n",
    "    a, b = 0, 1\n",
    "    while True:\n",
    "        yield a\n",
    "        a, b = b, a + b\n",
    "\n",
    "f = fib()\n",
    "vals = [next(f) for _ in range(8)]\n",
    "assert vals == [0,1,1,2,3,5,8,13]\n",
    "show_passed(\"2.2\")"
   ]
  },
  {
   "cell_type": "markdown",
   "id": "7bac30f5",
   "metadata": {},
   "source": [
    "**Practice 2.3** — Prime generator `primes()` লেখো; প্রথম 10টি প্রাইম নাও।"
   ]
  },
  {
   "cell_type": "code",
   "execution_count": null,
   "id": "8f853a12",
   "metadata": {},
   "outputs": [],
   "source": [
    "# TODO: implement a simple prime generator\n",
    "def primes():\n",
    "    yield 2\n",
    "    found = [2]\n",
    "    n = 3\n",
    "    while True:\n",
    "        is_prime = True\n",
    "        limit = int(n**0.5)\n",
    "        for p in found:\n",
    "            if p > limit: break\n",
    "            if n % p == 0:\n",
    "                is_prime = False\n",
    "                break\n",
    "        if is_prime:\n",
    "            found.append(n)\n",
    "            yield n\n",
    "        n += 2\n",
    "\n",
    "g = primes()\n",
    "vals = [next(g) for _ in range(10)]\n",
    "assert vals == [2,3,5,7,11,13,17,19,23,29]\n",
    "show_passed(\"2.3\")"
   ]
  },
  {
   "cell_type": "markdown",
   "id": "60a991ef",
   "metadata": {},
   "source": [
    "## 3) Lambda — ছোট একলাইনের ফাংশন"
   ]
  },
  {
   "cell_type": "markdown",
   "id": "6162c544",
   "metadata": {},
   "source": [
    "**Practice 3.1** — `square` নামে একটি lambda লেখো যা `x*x` রিটার্ন করবে।"
   ]
  },
  {
   "cell_type": "code",
   "execution_count": null,
   "id": "5ea356f9",
   "metadata": {},
   "outputs": [],
   "source": [
    "# TODO: define square as a lambda\n",
    "square = lambda x: x * x\n",
    "\n",
    "assert square(6) == 36\n",
    "show_passed(\"3.1\")"
   ]
  },
  {
   "cell_type": "markdown",
   "id": "f75f6174",
   "metadata": {},
   "source": [
    "**Practice 3.2** — `is_even` নামে একটি lambda লেখো যা জোড় হলে True ফেরত দেবে।"
   ]
  },
  {
   "cell_type": "code",
   "execution_count": null,
   "id": "97e496a3",
   "metadata": {},
   "outputs": [],
   "source": [
    "# TODO: define is_even as a lambda\n",
    "is_even = lambda x: x % 2 == 0\n",
    "\n",
    "assert is_even(10) is True and is_even(7) is False\n",
    "show_passed(\"3.2\")"
   ]
  },
  {
   "cell_type": "markdown",
   "id": "64abf5ca",
   "metadata": {},
   "source": [
    "## 4) `map()` — Transform each item"
   ]
  },
  {
   "cell_type": "markdown",
   "id": "9701f375",
   "metadata": {},
   "source": [
    "**Practice 4.1** — `map` দিয়ে প্রতিটি সংখ্যাকে 2 দিয়ে গুণ করো।"
   ]
  },
  {
   "cell_type": "code",
   "execution_count": null,
   "id": "9e8d3e89",
   "metadata": {},
   "outputs": [],
   "source": [
    "# TODO: use map + lambda to double\n",
    "nums = [1,2,3,4,5]\n",
    "doubled = list(map(lambda x: x*2, nums))\n",
    "\n",
    "assert doubled == [2,4,6,8,10]\n",
    "show_passed(\"4.1\")"
   ]
  },
  {
   "cell_type": "markdown",
   "id": "90fabc7a",
   "metadata": {},
   "source": [
    "**Practice 4.2** — দুইটি লিস্টে element-wise যোগ করো `map` দিয়ে।"
   ]
  },
  {
   "cell_type": "code",
   "execution_count": null,
   "id": "e6980be3",
   "metadata": {},
   "outputs": [],
   "source": [
    "# TODO: use map with two iterables\n",
    "a = [1,2,3]\n",
    "b = [10,20,30]\n",
    "added = list(map(lambda x,y: x+y, a, b))\n",
    "\n",
    "assert added == [11,22,33]\n",
    "show_passed(\"4.2\")"
   ]
  },
  {
   "cell_type": "markdown",
   "id": "b1ab965c",
   "metadata": {},
   "source": [
    "## 5) `filter()` — Keep items meeting a condition"
   ]
  },
  {
   "cell_type": "markdown",
   "id": "ef32fe2e",
   "metadata": {},
   "source": [
    "**Practice 5.1** — শুধু ৫ এর বেশি মান রেখে দাও।"
   ]
  },
  {
   "cell_type": "code",
   "execution_count": null,
   "id": "b514281f",
   "metadata": {},
   "outputs": [],
   "source": [
    "# TODO: filter >5\n",
    "nums = [3,8,1,10,6,2]\n",
    "gt5 = list(filter(lambda x: x > 5, nums))\n",
    "\n",
    "assert gt5 == [8,10,6]\n",
    "show_passed(\"5.1\")"
   ]
  },
  {
   "cell_type": "markdown",
   "id": "b7cda88a",
   "metadata": {},
   "source": [
    "**Practice 5.2** — নামের দৈর্ঘ্য > 4 হলে রেখে দাও।"
   ]
  },
  {
   "cell_type": "code",
   "execution_count": null,
   "id": "8fb784bc",
   "metadata": {},
   "outputs": [],
   "source": [
    "# TODO: filter names by length\n",
    "names = [\"Rony\",\"Amina\",\"Karim\",\"Bob\"]\n",
    "long_names = list(filter(lambda s: len(s) > 4, names))\n",
    "\n",
    "assert long_names == [\"Amina\",\"Karim\"]\n",
    "show_passed(\"5.2\")"
   ]
  },
  {
   "cell_type": "markdown",
   "id": "9aa1acc2",
   "metadata": {},
   "source": [
    "## 6) `sorted()` — Custom sorting with `key`"
   ]
  },
  {
   "cell_type": "markdown",
   "id": "4040c055",
   "metadata": {},
   "source": [
    "**Practice 6.1** — স্ট্রিংগুলোকে দৈর্ঘ্য অনুযায়ী sort করো (ascending)।"
   ]
  },
  {
   "cell_type": "code",
   "execution_count": null,
   "id": "c2fb6d76",
   "metadata": {},
   "outputs": [],
   "source": [
    "# TODO: sort by length\n",
    "words = [\"Rahim\",\"Lima\",\"Abdullah\",\"Amin\"]\n",
    "by_len = sorted(words, key=lambda s: len(s))\n",
    "\n",
    "assert by_len == ['Lima','Amin','Rahim','Abdullah']\n",
    "show_passed(\"6.1\")"
   ]
  },
  {
   "cell_type": "markdown",
   "id": "f51792b6",
   "metadata": {},
   "source": [
    "**Practice 6.2** — ছাত্রদের লিস্টকে `marks` অনুযায়ী **descending** sort করো।"
   ]
  },
  {
   "cell_type": "code",
   "execution_count": null,
   "id": "cac66072",
   "metadata": {},
   "outputs": [],
   "source": [
    "# TODO: sort dicts by 'marks' desc\n",
    "students = [\n",
    "    {\"name\":\"Rahim\",\"marks\":85},\n",
    "    {\"name\":\"Karim\",\"marks\":92},\n",
    "    {\"name\":\"Lima\",\"marks\":78}\n",
    "]\n",
    "ranked = sorted(students, key=lambda x: x['marks'], reverse=True)\n",
    "\n",
    "assert [s['name'] for s in ranked] == [\"Karim\",\"Rahim\",\"Lima\"]\n",
    "show_passed(\"6.2\")"
   ]
  },
  {
   "cell_type": "markdown",
   "id": "e4883891",
   "metadata": {},
   "source": [
    "## 7) `reduce()` — Aggregate to a single value"
   ]
  },
  {
   "cell_type": "markdown",
   "id": "4c5281cc",
   "metadata": {},
   "source": [
    "**Practice 7.1** — `reduce` দিয়ে সব সংখ্যার গুণফল বের করো।"
   ]
  },
  {
   "cell_type": "code",
   "execution_count": null,
   "id": "3d857076",
   "metadata": {},
   "outputs": [],
   "source": [
    "# TODO: product via reduce\n",
    "from functools import reduce\n",
    "\n",
    "nums = [1,2,3,4,5]\n",
    "prod = reduce(lambda a,b: a*b, nums)\n",
    "\n",
    "assert prod == 120\n",
    "show_passed(\"7.1\")"
   ]
  },
  {
   "cell_type": "markdown",
   "id": "c9c664c2",
   "metadata": {},
   "source": [
    "**Practice 7.2** — reduce দিয়ে স্ট্রিং merge করো → `['P','y','t','h','o','n']` → `'Python'`"
   ]
  },
  {
   "cell_type": "code",
   "execution_count": null,
   "id": "d5892c9b",
   "metadata": {},
   "outputs": [],
   "source": [
    "# TODO: reduce to join chars\n",
    "from functools import reduce\n",
    "\n",
    "chars = list(\"Python\")\n",
    "merged = reduce(lambda a,b: a+b, chars)\n",
    "\n",
    "assert merged == \"Python\"\n",
    "show_passed(\"7.2\")"
   ]
  },
  {
   "cell_type": "markdown",
   "id": "1aec6572",
   "metadata": {},
   "source": [
    "## 8) Map vs Filter vs Reduce — Combined Use"
   ]
  },
  {
   "cell_type": "markdown",
   "id": "a38ef9ad",
   "metadata": {},
   "source": [
    "**Practice 8.1** — সংখ্যাগুলোর মধ্যে থেকে জোড়গুলো নাও (`filter`), তারপর প্রতিটাকে 3 দিয়ে গুণ করো (`map`), শেষে সবগুলোর যোগফল দাও (`reduce`)।"
   ]
  },
  {
   "cell_type": "code",
   "execution_count": null,
   "id": "c2f891f1",
   "metadata": {},
   "outputs": [],
   "source": [
    "# TODO: pipeline with filter -> map -> reduce\n",
    "from functools import reduce\n",
    "\n",
    "nums = [1,2,3,4,5,6,7,8,9,10]\n",
    "pipeline = reduce(lambda a,b: a+b, map(lambda x: x*3, filter(lambda x: x%2==0, nums)))\n",
    "\n",
    "assert pipeline == (2+4+6+8+10)*3/2*2  # simpler: (2+4+6+8+10)*3\n",
    "assert pipeline == (2+4+6+8+10)*3\n",
    "show_passed(\"8.1\")"
   ]
  },
  {
   "cell_type": "markdown",
   "id": "ddad9c1f",
   "metadata": {},
   "source": [
    "## 9) Mini Projects"
   ]
  },
  {
   "cell_type": "markdown",
   "id": "6337b0da",
   "metadata": {},
   "source": [
    "**Project 9.1 — Top 3 Students (sorted + lambda)**  \n",
    "একটি students লিস্ট দেওয়া আছে। Top-3 highest marks বের করো।"
   ]
  },
  {
   "cell_type": "code",
   "execution_count": null,
   "id": "6b3e8e54",
   "metadata": {},
   "outputs": [],
   "source": [
    "# TODO: top-3 by marks\n",
    "students = [\n",
    "    {\"name\":\"A\",\"marks\":88},\n",
    "    {\"name\":\"B\",\"marks\":75},\n",
    "    {\"name\":\"C\",\"marks\":92},\n",
    "    {\"name\":\"D\",\"marks\":81},\n",
    "    {\"name\":\"E\",\"marks\":95},\n",
    "]\n",
    "top3 = sorted(students, key=lambda x: x['marks'], reverse=True)[:3]\n",
    "assert [s['name'] for s in top3] == ['E','C','A']\n",
    "show_passed(\"9.1\")"
   ]
  },
  {
   "cell_type": "markdown",
   "id": "2f64dadb",
   "metadata": {},
   "source": [
    "**Project 9.2 — Prime Stream (generator)**  \n",
    "Prime generator ব্যবহার করে ৫০ থেকে ১৫০ এর মধ্যে যত prime আছে, সেগুলো collect করো (in a list)।"
   ]
  },
  {
   "cell_type": "code",
   "execution_count": null,
   "id": "233f37e3",
   "metadata": {},
   "outputs": [],
   "source": [
    "# TODO: collect primes between 50 and 150\n",
    "def primes():\n",
    "    yield 2\n",
    "    found = [2]\n",
    "    n = 3\n",
    "    while True:\n",
    "        is_prime = True\n",
    "        limit = int(n**0.5)\n",
    "        for p in found:\n",
    "            if p > limit: break\n",
    "            if n % p == 0:\n",
    "                is_prime = False\n",
    "                break\n",
    "        if is_prime:\n",
    "            found.append(n)\n",
    "            yield n\n",
    "        n += 2\n",
    "\n",
    "ps = []\n",
    "for p in primes():\n",
    "    if p > 150: break\n",
    "    if p >= 50:\n",
    "        ps.append(p)\n",
    "\n",
    "assert ps == [53,59,61,67,71,73,79,83,89,97,101,103,107,109,113,127,131,137,139,149]\n",
    "show_passed(\"9.2\")"
   ]
  },
  {
   "cell_type": "markdown",
   "id": "f36f2b2f",
   "metadata": {},
   "source": [
    "**Project 9.3 — File Line Counter (iterator style)**  \n",
    "`lines` নামের list দেওয়া আছে (ফাইলের লাইনের মতো)। Iterator ব্যবহার করে কেবল যেসব লাইন `'ERROR'` দিয়ে শুরু হয়েছে সেগুলোর সংখ্যা বের করো (filter/len ব্যবহার না করে, pure iterator walk)।"
   ]
  },
  {
   "cell_type": "code",
   "execution_count": null,
   "id": "a6a6ddfb",
   "metadata": {},
   "outputs": [],
   "source": [
    "# TODO: manual iterator walk & count lines starting with 'ERROR'\n",
    "lines = [\n",
    "    \"INFO: start\",\n",
    "    \"ERROR: disk full\",\n",
    "    \"WARNING: temp high\",\n",
    "    \"ERROR: net down\",\n",
    "    \"INFO: done\",\n",
    "]\n",
    "it_lines = iter(lines)\n",
    "count_error = 0\n",
    "while True:\n",
    "    try:\n",
    "        line = next(it_lines)\n",
    "    except StopIteration:\n",
    "        break\n",
    "    if line.startswith(\"ERROR\"):\n",
    "        count_error += 1\n",
    "\n",
    "assert count_error == 2\n",
    "show_passed(\"9.3\")"
   ]
  },
  {
   "cell_type": "markdown",
   "id": "73fa2dc9",
   "metadata": {},
   "source": [
    "---\n",
    "### ✅ সব টেস্ট পাশ হলে — দারুণ কাজ!  \n",
    "চাইলে এই নোটবুকে তুমি নিজের মত নতুন এক্সারসাইজ যোগ করতে পারো। শুভকামনা! 🙌\n"
   ]
  }
 ],
 "metadata": {
  "kernelspec": {
   "display_name": "Python 3",
   "language": "python",
   "name": "python3"
  },
  "language_info": {
   "name": "python",
   "version": "3.x"
  }
 },
 "nbformat": 4,
 "nbformat_minor": 5
}
