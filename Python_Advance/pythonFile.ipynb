{
 "cells": [
  {
   "cell_type": "markdown",
   "id": "c23f0bbf",
   "metadata": {},
   "source": [
    "practice-1\n",
    "get the text from sample.txt , and count the following:\n",
    "1. number of lines\n",
    "2. number of words\n",
    "3. number of characters \n",
    "\n",
    "\n",
    "save the output in result.txt file"
   ]
  },
  {
   "cell_type": "code",
   "execution_count": 10,
   "id": "a25c1078",
   "metadata": {},
   "outputs": [
    {
     "name": "stdout",
     "output_type": "stream",
     "text": [
      "number of lines is: 6\n"
     ]
    }
   ],
   "source": [
    "# 1\n",
    "with open(\"sample.txt\",\"r\") as inp:\n",
    "    file=inp.readlines()\n",
    "length=len(file)\n",
    "print(f\"number of lines is: {length}\")\n"
   ]
  },
  {
   "cell_type": "code",
   "execution_count": 11,
   "id": "b3c26a4e",
   "metadata": {},
   "outputs": [
    {
     "name": "stdout",
     "output_type": "stream",
     "text": [
      "number of words is 23\n"
     ]
    }
   ],
   "source": [
    "# 2\n",
    "word_list=[]\n",
    "for i in file:\n",
    "    word=i.strip().split()\n",
    "    word_list.extend(word)\n",
    "length_word=len(word_list)\n",
    "print(f\"number of words is {length_word}\")"
   ]
  },
  {
   "cell_type": "code",
   "execution_count": 12,
   "id": "a9fb0a9c",
   "metadata": {},
   "outputs": [
    {
     "name": "stdout",
     "output_type": "stream",
     "text": [
      "88\n"
     ]
    }
   ],
   "source": [
    "# 3\n",
    "sum=0\n",
    "for i in word_list:\n",
    "    sum+=len(i)\n",
    "print(sum)"
   ]
  },
  {
   "cell_type": "code",
   "execution_count": 15,
   "id": "0ac4239d",
   "metadata": {},
   "outputs": [],
   "source": [
    "output=[length,length_word,sum]\n",
    "with open(\"result.txt\",\"w\") as out:\n",
    "\n",
    "    for i in output:\n",
    "        out.write(f\"{str(i)}\\n\")"
   ]
  },
  {
   "cell_type": "markdown",
   "id": "4b942994",
   "metadata": {},
   "source": [
    "practice-2\n",
    "\n",
    "write and read one file using python\n"
   ]
  },
  {
   "cell_type": "code",
   "execution_count": 18,
   "id": "13781f89",
   "metadata": {},
   "outputs": [
    {
     "name": "stdout",
     "output_type": "stream",
     "text": [
      "Hello Mamun\n"
     ]
    }
   ],
   "source": [
    "with open(\"write_read.txt\",\"w+\") as file:\n",
    "    file.write(\"Hello Mamun\")\n",
    "    file.seek(0)\n",
    "    print(file.read())"
   ]
  }
 ],
 "metadata": {
  "kernelspec": {
   "display_name": "Python 3",
   "language": "python",
   "name": "python3"
  },
  "language_info": {
   "codemirror_mode": {
    "name": "ipython",
    "version": 3
   },
   "file_extension": ".py",
   "mimetype": "text/x-python",
   "name": "python",
   "nbconvert_exporter": "python",
   "pygments_lexer": "ipython3",
   "version": "3.13.8"
  }
 },
 "nbformat": 4,
 "nbformat_minor": 5
}
